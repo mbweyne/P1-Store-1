{
  "cells": [
    {
      "cell_type": "markdown",
      "metadata": {
        "id": "FnPB8Fx5TMRb"
      },
      "source": [
        "Uma empresa de comércio eletrônico, Store 1, começou recentemente a coletar dados sobre seus clientes. O objetivo da Store 1 é entender melhor o comportamento dos clientes e tomar decisões baseadas em dados para melhorar experiência online deles.\n",
        "\n",
        "Como parte da equipe analítica, sua primeira tarefa é avaliar a qualidade de uma amostra de dados coletados e preparar elas para análises futuras."
      ]
    },
    {
      "cell_type": "markdown",
      "metadata": {
        "id": "vLW81iYmTMRe"
      },
      "source": [
        "# Quiz\n",
        "\n",
        "A Store 1 visa garantir a consistência na coleta de dados. Como parte desse esforço, a qualidade dos dados coletados sobre os usuários precisa ser avaliada. Foi pedido que você revise os dados coletados e proponha alterações. Abaixo, você verá dados sobre um determinado usuário. Revise os dados e identifique possíveis problemas."
      ]
    },
    {
      "cell_type": "code",
      "execution_count": null,
      "metadata": {
        "id": "i7_O27ZRTMRe",
        "trusted": true
      },
      "outputs": [],
      "source": [
        "user_id = '32415'\n",
        "user_name = ' mike_reed '\n",
        "user_age = 32.0\n",
        "fav_categories = ['ELECTRONICS', 'SPORT', 'BOOKS']"
      ]
    },
    {
      "cell_type": "markdown",
      "metadata": {
        "id": "Dyjbn7MhTMRg"
      },
      "source": [
        "**Opções:**\n",
        "\n",
        "1. O tipo de dados de `user_id` deve ser alterado de string para número inteiro (integer).\n",
        "    \n",
        "2. A variável `user_name` contém uma string com espaçamento desnecessário e um sublinhado entre o nome e o sobrenome.\n",
        "    \n",
        "3. O tipo de dados de `user_age` está incorreto.\n",
        "    \n",
        "4. A lista `fav_categories` contém strings em letras maiúsculas. Em vez disso, devemos converter os valores da lista para letras minúsculas."
      ]
    },
    {
      "cell_type": "markdown",
      "metadata": {
        "id": "AIsnk-vCTMRg"
      },
      "source": [
        "Escreva na célula de marcação abaixo do número de opções que você identificou como problemas. Se você identificou vários problemas, separe o número por vírgulas. Por exemplo, se você acha que os números 1 e 3 estão corretos, escreva 1, 3."
      ]
    },
    {
      "cell_type": "markdown",
      "metadata": {
        "id": "70wSe_MjTMRh"
      },
      "source": [
        "# **Escreva sua resposta e explique seu raciocínio:**\n",
        "\n",
        "1, 2, 3, 4\n",
        "\n",
        "1 - O tipo de dados de user_id deve ser alterado de string para número inteiro (integer) porque normalmente IDs são representados como números inteiros.\n",
        "\n",
        "2 - A variável user_name contém espaçamento desnecessário e um sublinhado entre o nome e o sobrenome. Isso pode ser ajustado removendo os espaços extras e substituindo o sublinhado por um espaço.\n",
        "\n",
        "3 - O tipo de dados de user_age está incorreto. A idade geralmente é representada como um número inteiro, então o tipo de dados deve ser alterado de ponto flutuante para inteiro.\n",
        "\n",
        "4 - A lista fav_categories contém strings em letras maiúsculas. Para manter consistência e facilitar comparações, é aconselhável converter os valores da lista para letras minúsculas.\n",
        "\n",
        "\n",
        "\n",
        "\n",
        "\n"
      ]
    },
    {
      "cell_type": "markdown",
      "metadata": {
        "id": "IH19D6NiTMRh"
      },
      "source": [
        "# Tarefa 1\n",
        "\n",
        "Vamos implementar as mudanças que identificamos. Primeiro, queremos corrigir os problemas com a variável `user_name`. Como verificamos, ela possui espaços desnecessários e um sublinhado como separador entre o nome e o sobrenome. Seu objetivo é remover os espaços e depois substituir o sublinhado por espaço."
      ]
    },
    {
      "cell_type": "code",
      "execution_count": null,
      "metadata": {
        "id": "HxZLfyLeTMRh",
        "trusted": true,
        "outputId": "fe21686f-7d07-4fdf-8e57-65d6f6b5f0e2"
      },
      "outputs": [
        {
          "name": "stdout",
          "output_type": "stream",
          "text": "mike reed\n"
        }
      ],
      "source": [
        "user_name = ' mike_reed '\n",
        "# remova os espaços na string original\n",
        "user_name = user_name.strip()\n",
        "\n",
        "# substitua o sublinhado por espaço\n",
        "user_name = user_name.replace('_', ' ')\n",
        "\n",
        "print(user_name)"
      ]
    },
    {
      "cell_type": "markdown",
      "metadata": {
        "id": "LYGHRijzTMRi"
      },
      "source": [
        "# Tarefa 2\n",
        "\n",
        "Em seguida, precisamos dividir o `user_name` atualizado em duas substrings para obter uma lista que contém dois valores: a string para o nome e a string para o sobrenome."
      ]
    },
    {
      "cell_type": "code",
      "execution_count": null,
      "metadata": {
        "id": "NOErvTX0TMRi",
        "trusted": true,
        "outputId": "26efd312-1d50-49b8-c927-a950a6843621"
      },
      "outputs": [
        {
          "name": "stdout",
          "output_type": "stream",
          "text": "['mike', 'reed']\n"
        }
      ],
      "source": [
        "user_name = 'mike reed'\n",
        "name_split = user_name.split() # divida a string user_name aqui\n",
        "\n",
        "print(name_split)"
      ]
    },
    {
      "cell_type": "markdown",
      "metadata": {
        "id": "9uRRxzLlTMRj"
      },
      "source": [
        "# Tarefa 3\n",
        "\n",
        "Ótimo! Agora queremos trabalhar com a variável `user_age`. Como mencionamos antes, ela possui um tipo de dados incorretos. Vamos corrigir esse problema transformando o tipo de dados e imprimindo o resultado final."
      ]
    },
    {
      "cell_type": "code",
      "execution_count": null,
      "metadata": {
        "id": "j9TH2Z4dTMRk",
        "trusted": true,
        "outputId": "da68c7e2-463d-4c0c-abb1-b8efab58b93b"
      },
      "outputs": [
        {
          "name": "stdout",
          "output_type": "stream",
          "text": "32\n"
        }
      ],
      "source": [
        "user_age = 32.0\n",
        "user_age = user_age = int(user_age) # altere o tipo de dados da idade de um usuário\n",
        "\n",
        "print(user_age)"
      ]
    },
    {
      "cell_type": "markdown",
      "metadata": {
        "id": "pAjBZI5_TMRk"
      },
      "source": [
        "# Tarefa 4\n",
        "\n",
        "Como sabemos, os dados nem sempre são perfeitos. Temos que considerar cenários em que o valor de `user_age` não pode ser convertido em um número inteiro. Para evitar que nosso sistema falhe, devemos tomar medidas com antecedência.\n",
        "\n",
        "Escreva um código que tenta converter a variável `user_age` em um número inteiro e atribua o valor transformado a `user_age_int`. Se a tentativa falhar, vamos exibir uma mensagem solicitando que o usuário forneça sua idade como um valor numérico com a mensagem: `Forneça sua idade como um valor numérico.`"
      ]
    },
    {
      "cell_type": "code",
      "execution_count": null,
      "metadata": {
        "id": "rB6ggdMXTMRl",
        "trusted": true,
        "outputId": "4f42db56-7abd-407c-8be5-d89e2b71d1b5"
      },
      "outputs": [
        {
          "name": "stdout",
          "output_type": "stream",
          "text": "Não foi possivel converter a idade em numero inteiro.\n"
        }
      ],
      "source": [
        "user_age = 'thirty two' # esta é a variável que armazena a idade como uma string.\n",
        "\n",
        "try:\n",
        "    user_age_int = int(user_age)\n",
        "    print(\"Idade convertida para um numero inteiro:\", user_age_int)\n",
        "except ValueError:\n",
        "    print(\"Não foi possivel converter a idade em numero inteiro.\") # escreva um código que vai tentar transformar user_age em um número inteiro e, se falhar, vai imprimir a mensagem especificada\n"
      ]
    },
    {
      "cell_type": "markdown",
      "metadata": {
        "id": "mRiGSPmOTMRl"
      },
      "source": [
        "# Tarefa 5\n",
        "\n",
        "Por fim, observe que todas as categorias de favoritos são armazenadas em letras maiúsculas. Para preencher uma nova lista chamada `fav_categories_low` com as mesmas categorias, mas em letras minúsculas, repita os valores na lista `fav_categories`, os modifique e anexe os novos valores à lista `fav_categories_low`. Como sempre, imprima o resultado final."
      ]
    },
    {
      "cell_type": "code",
      "execution_count": null,
      "metadata": {
        "id": "WpeCezPvTMRl",
        "trusted": true,
        "outputId": "9f629f50-c6ab-4dff-8093-55f0f3c3ae36"
      },
      "outputs": [
        {
          "name": "stdout",
          "output_type": "stream",
          "text": "['electronics', 'sport', 'books']\n"
        }
      ],
      "source": [
        "fav_categories = ['ELECTRONICS', 'SPORT', 'BOOKS']\n",
        "fav_categories_low = []\n",
        "\n",
        "# Itera sobre cada categoria em fav_categories\n",
        "for category in fav_categories:\n",
        "    # Converte a categoria para minúsculas e a adiciona a fav_categories_low\n",
        "    fav_categories_low.append(category.lower())\n",
        "\n",
        "# Imprime o resultado final\n",
        "print(fav_categories_low)"
      ]
    },
    {
      "cell_type": "markdown",
      "metadata": {
        "id": "wtdhH2U3TMRm"
      },
      "source": [
        "# Tarefa 6\n",
        "\n",
        "Conseguimos informações adicionais sobre os hábitos de consumo de nossos usuários, incluindo o valor gasto em cada uma de suas categorias favoritas. A administração está interessada nas seguintes métricas:\n",
        "\n",
        "- Valor total gasto pelo usuário\n",
        "- Valor mínimo gasto\n",
        "- Valor máximo gasto\n",
        "\n",
        "Vamos calcular e imprimir esses valores:"
      ]
    },
    {
      "cell_type": "code",
      "execution_count": null,
      "metadata": {
        "id": "FJrkCnPTTMRm",
        "trusted": true,
        "outputId": "9046a88f-1df6-40e4-c679-b7543a821fcd"
      },
      "outputs": [
        {
          "name": "stdout",
          "output_type": "stream",
          "text": "1280\n894\n173\n"
        }
      ],
      "source": [
        "fav_categories_low = ['electronics', 'sport', 'books']\n",
        "spendings_per_category = [894, 213, 173]\n",
        "\n",
        "total_amount = sum(spendings_per_category) # escreva seu código aqui\n",
        "max_amount = max(spendings_per_category) # escreva seu código aqui\n",
        "min_amount = min(spendings_per_category) # escreva seu código aqui\n",
        "\n",
        "\n",
        "# não remova a instrução de impressão abaixo\n",
        "print(total_amount)\n",
        "print(max_amount)\n",
        "print(min_amount)"
      ]
    },
    {
      "cell_type": "markdown",
      "metadata": {
        "id": "teiKWjy4TMRn"
      },
      "source": [
        "# Tarefa 7\n",
        "\n",
        "A empresa quer oferecer descontos aos seus clientes fiéis. Clientes que fizerem compras totalizando mais de $1.500 são considerados fiéis e vão receber um desconto.\n",
        "\n",
        "Nosso objetivo é criar um ciclo `while` que verifique o valor total gasto e pare quando ele for atingido. Para simular novas compras, a variável `new_purchase` gera um número entre 30 e 80 em cada ciclo. Isso representa a quantidade de dinheiro gasto em uma nova compra, e é o que você precisa adicionar ao total.\n",
        "\n",
        "Assim que o valor alvo for atingido e o ciclo `while` for encerrado, o valor final será impresso."
      ]
    },
    {
      "cell_type": "code",
      "execution_count": null,
      "metadata": {
        "id": "HPvkbyzATMRn",
        "trusted": true,
        "outputId": "1500e8b0-27ca-4333-b616-d82450e45588"
      },
      "outputs": [
        {
          "name": "stdout",
          "output_type": "stream",
          "text": "1527\n"
        }
      ],
      "source": [
        "from random import randint\n",
        "\n",
        "total_amount_spent = 1280\n",
        "target_amount = 1500\n",
        "\n",
        "while total_amount_spent < target_amount: # escreva seu código aqui\n",
        "\tnew_purchase = randint(30, 80) # geramos um número aleatório de 30 a 80\n",
        "\ttotal_amount_spent += new_purchase # escreva seu código aqui\n",
        "\n",
        "print(total_amount_spent)"
      ]
    },
    {
      "cell_type": "markdown",
      "metadata": {
        "id": "jwzs5Ad2TMRn"
      },
      "source": [
        "# Tarefa 8\n",
        "\n",
        "Agora temos todas as informações sobre um cliente da maneira que queremos. A administração de uma empresa nos pediu para encontrar uma maneira de resumir toda a informação sobre um usuário. Seu objetivo é criar uma string formatada que usa informações das variáveis ​​`user_id`, `user_name` e `user_age`.\n",
        "\n",
        "Aqui está a string final que queremos criar: `Usuário 32415 chama-se mike e tem 32 anos.`"
      ]
    },
    {
      "cell_type": "code",
      "execution_count": null,
      "metadata": {
        "id": "Da4RJ_gLTMRo",
        "trusted": true,
        "outputId": "ba0d58cf-5e65-4044-b59b-a410be45a131"
      },
      "outputs": [
        {
          "name": "stdout",
          "output_type": "stream",
          "text": "Usuário 32415 chama-se mike e tem 32 anos.\n"
        }
      ],
      "source": [
        "user_id = '32415'\n",
        "user_name = ['mike', 'reed']\n",
        "user_age = 32\n",
        "\n",
        "user_info = f'Usuário {user_id} chama-se {user_name[0]} e tem {user_age} anos.'\n",
        "\n",
        "# não remova a instrução de impressão abaixo\n",
        "print(user_info)"
      ]
    },
    {
      "cell_type": "markdown",
      "metadata": {
        "id": "DAfqUxKhTMRo"
      },
      "source": [
        "Como você já deve saber, as empresas coletam e armazenam dados de uma maneira específica. A Store 1 deseja armazenar todas as informações sobre seus clientes em uma tabela.\n",
        "\n",
        "| user_id | user_name | user_age | purchase_category | spending_per_category |\n",
        "| --- | --- | --- | --- | --- |\n",
        "| '32415' | 'mike', 'reed' | 32 | 'electronics', 'sport', 'books' | 894, 213, 173 |\n",
        "| '31980' | 'kate', 'morgan' | 24 | 'clothes', 'shoes' | 439, 390 |\n",
        "\n",
        "Em termos técnicos, uma tabela é simplesmente uma lista aninhada que possui uma sublista para cada usuário.\n",
        "\n",
        "A Store 1 criou essa tabela para seus usuários. Ela está armazenada na variável `users`. Cada sublista contém o ID do usuário, nome e sobrenome, idade, categorias favoritas e o valor gasto em cada categoria."
      ]
    },
    {
      "cell_type": "markdown",
      "metadata": {
        "id": "ZAN1CrBGTMRp"
      },
      "source": [
        "# Tarefa 9\n",
        "\n",
        "Para calcular a receita da empresa, siga estas etapas:\n",
        "\n",
        "1. Use um ciclo `for` para iterar na lista `users`.\n",
        "2. Extraia a lista de gastos de cada usuário e some os valores.\n",
        "3. Atualize o valor da receita com o total de cada usuário.\n",
        "\n",
        "Isso vai fornecer a receita total da empresa, que você vai imprimir no final."
      ]
    },
    {
      "cell_type": "code",
      "execution_count": null,
      "metadata": {
        "id": "ehCh9ub0TMRp",
        "trusted": true,
        "outputId": "02f97f39-1a42-46cb-f620-6c9e6d3de109"
      },
      "outputs": [
        {
          "name": "stdout",
          "output_type": "stream",
          "text": "2109\n"
        }
      ],
      "source": [
        "users = [\n",
        "    ['32415', ['mike', 'reed'], 32, ['electronics', 'sport', 'books'], [894, 213, 173]],\n",
        "    ['31980', ['kate', 'morgan'], 24, ['clothes', 'shoes'], [439, 390]]\n",
        "]\n",
        "\n",
        "revenue = 0\n",
        "\n",
        "for user in users:\n",
        "    spendings_list = user[4]  # A lista de gastos está na posição 4 da sublista de cada usuário\n",
        "    total_spendings = sum(spendings_list)  # Soma dos gastos em todas as categorias para um usuário específico\n",
        "    revenue += total_spendings  # Atualiza a receita com o total de gastos do usuário\n",
        "\n",
        "\n",
        "# não remova a instrução de impressão abaixo\n",
        "print(revenue)\n"
      ]
    },
    {
      "cell_type": "markdown",
      "metadata": {
        "id": "sWwO-Qa1TMRp"
      },
      "source": [
        "# Tarefa 10\n",
        "\n",
        "Use um ciclo for para percorrer a lista de usuários que fornecemos e imprima os nomes dos clientes com menos de 30 anos."
      ]
    },
    {
      "cell_type": "code",
      "execution_count": null,
      "metadata": {
        "id": "dRl-c6NvTMRq",
        "trusted": true,
        "outputId": "e4683e0b-86c3-42fe-914b-0c1535d3ea07"
      },
      "outputs": [
        {
          "name": "stdout",
          "output_type": "stream",
          "text": "Cliente com menos de 30 anos: kate morgan\nCliente com menos de 30 anos: samantha smith\nCliente com menos de 30 anos: emily brown\nCliente com menos de 30 anos: jose martinez\nCliente com menos de 30 anos: james lee\n"
        }
      ],
      "source": [
        "users = [\n",
        "    ['32415', ['mike', 'reed'], 32, ['electronics', 'sport', 'books'],\n",
        "     [894, 213, 173]],\n",
        "    ['31980', ['kate', 'morgan'], 24, ['clothes', 'books'], [439,\n",
        "     390]],\n",
        "    ['32156', ['john', 'doe'], 37, ['electronics', 'home', 'food'],\n",
        "     [459, 120, 99]],\n",
        "    ['32761', ['samantha', 'smith'], 29, ['clothes', 'electronics',\n",
        "     'beauty'], [299, 679, 85]],\n",
        "    ['32984', ['david', 'white'], 41, ['books', 'home', 'sport'], [234,\n",
        "     329, 243]],\n",
        "    ['33001', ['emily', 'brown'], 26, ['beauty', 'home', 'food'], [213,\n",
        "     659, 79]],\n",
        "    ['33767', ['maria', 'garcia'], 33, ['clothes', 'food', 'beauty'],\n",
        "     [499, 189, 63]],\n",
        "    ['33912', ['jose', 'martinez'], 22, ['sport', 'electronics', 'home'\n",
        "     ], [259, 549, 109]],\n",
        "    ['34009', ['lisa', 'wilson'], 35, ['home', 'books', 'clothes'],\n",
        "     [329, 189, 329]],\n",
        "    ['34278', ['james', 'lee'], 28, ['beauty', 'clothes', 'electronics'\n",
        "     ], [189, 299, 579]],\n",
        "    ]\n",
        "\n",
        "# escreva seu código aqui\n",
        "for user in users:\n",
        "    idade = user[2]  # Corrigindo a extração da idade\n",
        "    if idade < 30:\n",
        "        # Imprime os nomes dos clientes com menos de 30 anos\n",
        "        nomes = ' '.join(user[1])  # Converte a lista de nomes em uma string\n",
        "        print(f'Cliente com menos de 30 anos: {nomes}')"
      ]
    },
    {
      "cell_type": "markdown",
      "metadata": {
        "id": "zicEj6hhTMRq"
      },
      "source": [
        "# Tarefa 11\n",
        "\n",
        "Vamos juntar as tarefas 9 e 10 e imprimir os nomes de usuários com menos de 30 anos com gastos totais acima de 1.000 dólares."
      ]
    },
    {
      "cell_type": "code",
      "execution_count": null,
      "metadata": {
        "id": "ubyQ0OzeTMRq",
        "trusted": true,
        "outputId": "ce4297fb-1063-4cf3-f90d-473f9f7137ce"
      },
      "outputs": [
        {
          "name": "stdout",
          "output_type": "stream",
          "text": "Cliente com menos de 30 anos: samantha smith e com gastos acima de 1000: 1063\nCliente com menos de 30 anos: james lee e com gastos acima de 1000: 1067\n"
        }
      ],
      "source": [
        "users = [\n",
        "    ['32415', ['mike', 'reed'], 32, ['electronics', 'sport', 'books'],\n",
        "     [894, 213, 173]],\n",
        "    ['31980', ['kate', 'morgan'], 24, ['clothes', 'books'], [439,\n",
        "     390]],\n",
        "    ['32156', ['john', 'doe'], 37, ['electronics', 'home', 'food'],\n",
        "     [459, 120, 99]],\n",
        "    ['32761', ['samantha', 'smith'], 29, ['clothes', 'electronics',\n",
        "     'beauty'], [299, 679, 85]],\n",
        "    ['32984', ['david', 'white'], 41, ['books', 'home', 'sport'], [234,\n",
        "     329, 243]],\n",
        "    ['33001', ['emily', 'brown'], 26, ['beauty', 'home', 'food'], [213,\n",
        "     659, 79]],\n",
        "    ['33767', ['maria', 'garcia'], 33, ['clothes', 'food', 'beauty'],\n",
        "     [499, 189, 63]],\n",
        "    ['33912', ['jose', 'martinez'], 22, ['sport', 'electronics', 'home'\n",
        "     ], [259, 549, 109]],\n",
        "    ['34009', ['lisa', 'wilson'], 35, ['home', 'books', 'clothes'],\n",
        "     [329, 189, 329]],\n",
        "    ['34278', ['james', 'lee'], 28, ['beauty', 'clothes', 'electronics'\n",
        "     ], [189, 299, 579]],\n",
        "    ]\n",
        "\n",
        "\n",
        "    # escreva seu código aqui\n",
        "\n",
        "for user in users:\n",
        "    spendings_list = user[4]\n",
        "    total_spendings = sum(spendings_list)\n",
        "    idade = user[2]\n",
        "    nomes = ' '.join(user[1])\n",
        "    if idade < 30 and total_spendings > 1000:\n",
        "        print(f'Cliente com menos de 30 anos: {nomes} e com gastos acima de 1000: {total_spendings}')\n"
      ]
    },
    {
      "cell_type": "markdown",
      "metadata": {
        "id": "Gfhr7JYi82x7"
      },
      "source": [
        "<s><div class=\"alert alert-block alert-danger\">\n",
        "<b> Comentário do revisor: </b> <a class=\"tocSkip\"></a>\n",
        "\n",
        "Erro de lógica: o if e seu conteúdo devem estar dentro do loop\n",
        "</div>\n"
      ]
    },
    {
      "cell_type": "markdown",
      "metadata": {
        "id": "kQX82mWVTMRr"
      },
      "source": [
        "# Tarefa 12\n",
        "\n",
        "Agora vamos imprimir o nome e a idade de todos os usuários que compraram roupas (clothes). Imprima o nome e a idade na mesma instrução de impressão."
      ]
    },
    {
      "cell_type": "code",
      "execution_count": null,
      "metadata": {
        "id": "obZTnKq2TMRr",
        "trusted": true,
        "outputId": "8343a93c-2819-4faa-bdab-8f4bd51e5c59"
      },
      "outputs": [
        {
          "name": "stdout",
          "output_type": "stream",
          "text": "Nome: kate morgan , idade: 24 e ['clothes', 'books']\nNome: samantha smith , idade: 29 e ['clothes', 'electronics', 'beauty']\nNome: maria garcia , idade: 33 e ['clothes', 'food', 'beauty']\nNome: lisa wilson , idade: 35 e ['home', 'books', 'clothes']\nNome: james lee , idade: 28 e ['beauty', 'clothes', 'electronics']\n"
        }
      ],
      "source": [
        "users = [\n",
        "    ['32415', ['mike', 'reed'], 32, ['electronics', 'sport', 'books'],\n",
        "     [894, 213, 173]],\n",
        "    ['31980', ['kate', 'morgan'], 24, ['clothes', 'books'], [439,\n",
        "     390]],\n",
        "    ['32156', ['john', 'doe'], 37, ['electronics', 'home', 'food'],\n",
        "     [459, 120, 99]],\n",
        "    ['32761', ['samantha', 'smith'], 29, ['clothes', 'electronics',\n",
        "     'beauty'], [299, 679, 85]],\n",
        "    ['32984', ['david', 'white'], 41, ['books', 'home', 'sport'], [234,\n",
        "     329, 243]],\n",
        "    ['33001', ['emily', 'brown'], 26, ['beauty', 'home', 'food'], [213,\n",
        "     659, 79]],\n",
        "    ['33767', ['maria', 'garcia'], 33, ['clothes', 'food', 'beauty'],\n",
        "     [499, 189, 63]],\n",
        "    ['33912', ['jose', 'martinez'], 22, ['sport', 'electronics', 'home'\n",
        "     ], [259, 549, 109]],\n",
        "    ['34009', ['lisa', 'wilson'], 35, ['home', 'books', 'clothes'],\n",
        "     [329, 189, 329]],\n",
        "    ['34278', ['james', 'lee'], 28, ['beauty', 'clothes', 'electronics'\n",
        "     ], [189, 299, 579]],\n",
        "    ]\n",
        "\n",
        "\n",
        "#escreva seu código aqui\n",
        "\n",
        "for user in users:\n",
        "    idade = user[2]\n",
        "    nomes = ' '.join(user[1])\n",
        "    roupa = user[3]\n",
        "    if 'clothes' in roupa:\n",
        "        print(f'Nome: {nomes} , idade: {idade} e {roupa}')\n",
        ""
      ]
    },
    {
      "cell_type": "markdown",
      "metadata": {
        "id": "t4_JyNW582x8"
      },
      "source": [
        "<s><div class=\"alert alert-block alert-danger\">\n",
        "<b> Comentário do revisor: </b> <a class=\"tocSkip\"></a>\n",
        "\n",
        "Erro de lógica: você deve vericiar se 'clothes' in roupa\n",
        "</div>\n"
      ]
    },
    {
      "cell_type": "markdown",
      "metadata": {
        "id": "JJaO-qysTMRs"
      },
      "source": [
        "#Escreva quaisquer comentários ou ideias finais aqui"
      ]
    },
    {
      "cell_type": "markdown",
      "metadata": {
        "id": "1VaKaKWe82x8"
      },
      "source": [
        "\n",
        "<div class=\"alert alert-block alert-success\">\n",
        "<b>Comentário Geral do Revisor</b> <a class=\"tocSkip\"></a>\n",
        "\n",
        "Parabéns pela aprovação. Está tudo correto agora. Desejo sucesso na jornada.\n",
        "</div>"
      ]
    }
  ],
  "metadata": {
    "colab": {
      "provenance": []
    },
    "kernelspec": {
      "display_name": "Python 3 (ipykernel)",
      "language": "python",
      "name": "python3"
    },
    "language_info": {
      "codemirror_mode": {
        "name": "ipython",
        "version": 3
      },
      "file_extension": ".py",
      "mimetype": "text/x-python",
      "name": "python",
      "nbconvert_exporter": "python",
      "pygments_lexer": "ipython3",
      "version": "3.9.5"
    },
    "toc": {
      "base_numbering": 1,
      "nav_menu": {},
      "number_sections": true,
      "sideBar": true,
      "skip_h1_title": true,
      "title_cell": "Table of Contents",
      "title_sidebar": "Contents",
      "toc_cell": false,
      "toc_position": {},
      "toc_section_display": true,
      "toc_window_display": false
    }
  },
  "nbformat": 4,
  "nbformat_minor": 0
}